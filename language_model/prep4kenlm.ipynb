{
 "cells": [
  {
   "cell_type": "code",
   "execution_count": 9,
   "metadata": {
    "scrolled": false
   },
   "outputs": [],
   "source": [
    "#!pip install pandas\n",
    "import codecs, pandas as pd\n",
    "df=pd.read_csv('/s2t_torch/data/sennheiser_clean/train/train_bckp.csv')\n",
    "#df=pd.read_csv('/s2t_torch/data/sennheiser_clean/train/train.csv', header=None)"
   ]
  },
  {
   "cell_type": "code",
   "execution_count": 10,
   "metadata": {},
   "outputs": [
    {
     "data": {
      "text/html": [
       "<div>\n",
       "<style scoped>\n",
       "    .dataframe tbody tr th:only-of-type {\n",
       "        vertical-align: middle;\n",
       "    }\n",
       "\n",
       "    .dataframe tbody tr th {\n",
       "        vertical-align: top;\n",
       "    }\n",
       "\n",
       "    .dataframe thead th {\n",
       "        text-align: right;\n",
       "    }\n",
       "</style>\n",
       "<table border=\"1\" class=\"dataframe\">\n",
       "  <thead>\n",
       "    <tr style=\"text-align: right;\">\n",
       "      <th></th>\n",
       "      <th>file</th>\n",
       "      <th>wav_filesize</th>\n",
       "      <th>trans</th>\n",
       "    </tr>\n",
       "  </thead>\n",
       "  <tbody>\n",
       "    <tr>\n",
       "      <th>0</th>\n",
       "      <td>/s2t_torch/data/sennheiser_clean/phonetic_spee...</td>\n",
       "      <td>732044</td>\n",
       "      <td>jernbanenettet i og rundt oslo  yrer av signal...</td>\n",
       "    </tr>\n",
       "    <tr>\n",
       "      <th>1</th>\n",
       "      <td>/s2t_torch/data/sennheiser_clean/phonetic_spee...</td>\n",
       "      <td>708044</td>\n",
       "      <td>designsjefen i politiken søren nyeland  mener ...</td>\n",
       "    </tr>\n",
       "    <tr>\n",
       "      <th>2</th>\n",
       "      <td>/s2t_torch/data/sennheiser_clean/phonetic_spee...</td>\n",
       "      <td>951044</td>\n",
       "      <td>skulle historiefordøyelsen ta overhånd  finnes...</td>\n",
       "    </tr>\n",
       "    <tr>\n",
       "      <th>3</th>\n",
       "      <td>/s2t_torch/data/sennheiser_clean/phonetic_spee...</td>\n",
       "      <td>924044</td>\n",
       "      <td>så forsøket på å bygge  seg opp som tvunderhol...</td>\n",
       "    </tr>\n",
       "    <tr>\n",
       "      <th>4</th>\n",
       "      <td>/s2t_torch/data/sennheiser_clean/phonetic_spee...</td>\n",
       "      <td>1005044</td>\n",
       "      <td>lys og mørk  eksport  bokk  pils  bayer  og le...</td>\n",
       "    </tr>\n",
       "  </tbody>\n",
       "</table>\n",
       "</div>"
      ],
      "text/plain": [
       "                                                file  wav_filesize  \\\n",
       "0  /s2t_torch/data/sennheiser_clean/phonetic_spee...        732044   \n",
       "1  /s2t_torch/data/sennheiser_clean/phonetic_spee...        708044   \n",
       "2  /s2t_torch/data/sennheiser_clean/phonetic_spee...        951044   \n",
       "3  /s2t_torch/data/sennheiser_clean/phonetic_spee...        924044   \n",
       "4  /s2t_torch/data/sennheiser_clean/phonetic_spee...       1005044   \n",
       "\n",
       "                                               trans  \n",
       "0  jernbanenettet i og rundt oslo  yrer av signal...  \n",
       "1  designsjefen i politiken søren nyeland  mener ...  \n",
       "2  skulle historiefordøyelsen ta overhånd  finnes...  \n",
       "3  så forsøket på å bygge  seg opp som tvunderhol...  \n",
       "4  lys og mørk  eksport  bokk  pils  bayer  og le...  "
      ]
     },
     "execution_count": 10,
     "metadata": {},
     "output_type": "execute_result"
    }
   ],
   "source": [
    "df.head()"
   ]
  },
  {
   "cell_type": "code",
   "execution_count": null,
   "metadata": {},
   "outputs": [],
   "source": [
    "df.trans = df.trans.apply(lambda x: x+\" \\n\")\n",
    "text_file = codecs.open(\"/s2t_torch/data/sennheiser_clean/vocabulary.txt\", \"w\",\"utf-8\")\n",
    "#uncomment if you wanto write on disc:\n",
    "#text_file.write(''.join(df.trans.tolist()))\n",
    "text_file.close()"
   ]
  },
  {
   "cell_type": "code",
   "execution_count": 14,
   "metadata": {
    "scrolled": true
   },
   "outputs": [
    {
     "name": "stdout",
     "output_type": "stream",
     "text": [
      "['# Each line in this file represents the Unicode codepoint (UTF-8 encoded)\\n', '# associated with a numeric label.\\n', '# A line that starts with # is a comment. You can escape it with \\\\# if you wish\\n', \"# to use '#' as a label.\\n\", ' \\n', 'a\\n', 'b\\n', 'c\\n', 'd\\n', 'e\\n', 'f\\n', 'g\\n', 'h\\n', 'i\\n', 'j\\n', 'k\\n', 'l\\n', 'm\\n', 'n\\n', 'o\\n', 'p\\n', 'q\\n', 'r\\n', 's\\n', 't\\n', 'u\\n', 'v\\n', 'w\\n', 'x\\n', 'y\\n', 'z\\n', 'æ\\n', 'ø\\n', 'å\\n', '# The last (non-comment) line needs to end with a newline.\\n']\n"
     ]
    }
   ],
   "source": [
    "# alphabet is in: /s2t_torch/data/sennheiser_clean/\n",
    "alph=codecs.open('/s2t_torch/data/sennheiser_clean/alphabet.txt')\n",
    "print(alph.readlines())\n",
    "alph.close()"
   ]
  },
  {
   "cell_type": "markdown",
   "metadata": {},
   "source": [
    "apt-get install build-essential libboost-all-dev cmake zlib1g-dev libbz2-dev liblzma-dev\n",
    "\n",
    "wget -O - https://kheafield.com/code/kenlm.tar.gz |tar xz\n",
    "mkdir kenlm/build\n",
    "cd kenlm/build\n",
    "cmake ..\n",
    "make -j2\n",
    "\n",
    "to build .arpa and/or .klm use:\n",
    "\n",
    "bin/lmplz -o 5 <text >text.arpa\n",
    "bin/build_binary text.arpa text.binary\n",
    "\n",
    "# or follow Pablo's github:\n",
    "For the first time set up, i.e. when building a new LM, copy over vocab and alphabet file to the norwegian_model folder. Note that the alphabet file should include all norwegian letters.\n",
    "\n",
    "mkdir /norwegian_model\n",
    "cp /data/vocabulary.txt /speech2text/norwegian_model\n",
    "cp /speech2text/DeepSpeech/models/alphabet.txt /speech2text/norwegian_model\n",
    "build a LM using KenLM in 3 commands:\n",
    "\n",
    "3.1) Create words.arpa (for 3 grams in this case)\n",
    "\n",
    "/speech2text/kenlm/build/bin/lmplz --text /speech2text/norwegian_model/vocabulary.txt --arpa /speech2text/norwegian_model/words.arpa --o 3 --discount_fallback\n",
    "\n",
    "3.2) Create binary file\n",
    "\n",
    "/speech2text/kenlm/build/bin/build_binary -s /speech2text/norwegian_model/words.arpa /speech2text/norwegian_model/lm.binary\n",
    "\n",
    "3.3) create trie file\n",
    "\n",
    "/speech2text/DeepSpeech/native_client/generate_trie /speech2text/norwegian_model/alphabet.txt /speech2text/norwegian_model/lm.binary trie\n",
    "or\n",
    "\n",
    "/speech2text/norwegian_model/generate_trie /speech2text/norwegian_model/alphabet.txt /speech2text/norwegian_model/lm.binary trie\n",
    "\n",
    "That's all we need! Now we can run DeepSpeech.py. I created the run.sh file in /speech2text/Deepspeech/ with the required folder paths and default parameters."
   ]
  },
  {
   "cell_type": "code",
   "execution_count": null,
   "metadata": {},
   "outputs": [],
   "source": []
  }
 ],
 "metadata": {
  "kernelspec": {
   "display_name": "Python 3",
   "language": "python",
   "name": "python3"
  },
  "language_info": {
   "codemirror_mode": {
    "name": "ipython",
    "version": 3
   },
   "file_extension": ".py",
   "mimetype": "text/x-python",
   "name": "python",
   "nbconvert_exporter": "python",
   "pygments_lexer": "ipython3",
   "version": "3.7.4"
  }
 },
 "nbformat": 4,
 "nbformat_minor": 4
}
